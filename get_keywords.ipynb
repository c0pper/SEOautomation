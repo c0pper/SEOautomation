{
 "cells": [
  {
   "cell_type": "code",
   "execution_count": 2,
   "metadata": {},
   "outputs": [],
   "source": [
    "from langchain_openai import ChatOpenAI\n",
    "from dotenv import load_dotenv\n",
    "from typing import List, Optional\n",
    "load_dotenv()\n",
    "\n",
    "llm = ChatOpenAI(model=\"gpt-3.5-turbo-0125\", temperature=0)\n"
   ]
  },
  {
   "cell_type": "code",
   "execution_count": 3,
   "metadata": {},
   "outputs": [],
   "source": [
    "from langchain_core.prompts import ChatPromptTemplate\n",
    "from langchain_core.pydantic_v1 import BaseModel, Field\n",
    "\n",
    "def class_tester(cls, human_prompt, input_dict:dict):\n",
    "    structured_llm = llm.with_structured_output(cls)\n",
    "\n",
    "\n",
    "    prompt = ChatPromptTemplate.from_messages(\n",
    "        [\n",
    "            (\"system\", cls.get_system_prompt()),\n",
    "            (\"human\", human_prompt)\n",
    "        ]\n",
    "    )\n",
    "    generator = prompt | structured_llm\n",
    "    result = generator.invoke(input_dict)\n",
    "    return result"
   ]
  },
  {
   "cell_type": "code",
   "execution_count": 4,
   "metadata": {},
   "outputs": [
    {
     "name": "stdout",
     "output_type": "stream",
     "text": [
      "['Seo efficient article example', 'SEO articles examples', 'Best SEO articles', 'SEO article writing', 'SEO-optimized article meaning', 'What is seo', 'SEO article writer AI', 'SEO article Checker']\n"
     ]
    }
   ],
   "source": [
    "import requests\n",
    "\n",
    "def get_keywords(query, api_key):\n",
    "    params = {\n",
    "        \"engine\": \"google\",\n",
    "        \"q\": query,\n",
    "        \"api_key\": api_key,\n",
    "        \"gl\": \"us\",\n",
    "        \"hl\": \"en\"\n",
    "    }\n",
    "    response = requests.get(\"https://serpapi.com/search\", params=params)\n",
    "    data = response.json()\n",
    "\n",
    "    # Extract related searches as keywords\n",
    "    keywords = [related_search['query'] for related_search in data.get('related_searches', [])]\n",
    "    return keywords\n",
    "\n",
    "api_key = os.getenv(\"SERP_API_KEY\")\n",
    "query = \"SEO efficient article\"\n",
    "# keywords = get_keywords(query, api_key)\n",
    "keywords = ['Seo efficient article example', 'SEO articles examples', 'Best SEO articles', 'SEO article writing', 'SEO-optimized article meaning', 'What is seo', 'SEO article writer AI', 'SEO article Checker']\n",
    "print(keywords)\n"
   ]
  },
  {
   "cell_type": "code",
   "execution_count": 5,
   "metadata": {},
   "outputs": [
    {
     "data": {
      "text/plain": [
       "LongtailKeywordsGenerator(keywords=[LongtailKeyword(keyword='Seo efficient article example'), LongtailKeyword(keyword='SEO articles examples'), LongtailKeyword(keyword='Best SEO articles')])"
      ]
     },
     "execution_count": 5,
     "metadata": {},
     "output_type": "execute_result"
    }
   ],
   "source": [
    "class LongtailKeyword(BaseModel):\n",
    "    \"\"\"A longtail keyword is a keyword that is not in the top 10 search results.\"\"\"\n",
    "\n",
    "    keyword: str = Field(description=\"The longtail keyword\")\n",
    "\n",
    "\n",
    "class LongtailKeywordsGenerator(BaseModel):\n",
    "    \"\"\"Generate longtail keywords starting from a list of keywords.\"\"\"\n",
    "\n",
    "    keywords: list[LongtailKeyword] = Field(\n",
    "        description=\"A list of generated longtail keywords.\"\n",
    "    )\n",
    "\n",
    "    @classmethod\n",
    "    def get_system_prompt(cls) -> str:\n",
    "        return \"\"\"You are a longtail keyword generator. You will generate longtail keywords starting from a list of keywords.\"\"\"\n",
    "\n",
    "\n",
    "result = class_tester(LongtailKeywordsGenerator, \"Keywords list:\\n\\n {kw}\", {\"kw\": \"['Seo efficient article example', 'SEO articles examples', 'Best SEO articles']\"})\n",
    "result\n"
   ]
  },
  {
   "cell_type": "code",
   "execution_count": 6,
   "metadata": {},
   "outputs": [],
   "source": [
    "class KeywordChooser(BaseModel):\n",
    "    \"\"\"Choose a keyword from a list of keywords.\"\"\"\n",
    "    pass"
   ]
  },
  {
   "cell_type": "code",
   "execution_count": 7,
   "metadata": {},
   "outputs": [],
   "source": [
    "article_title = \"SEO article writing for e-commerce\""
   ]
  },
  {
   "cell_type": "code",
   "execution_count": 8,
   "metadata": {},
   "outputs": [],
   "source": [
    "class H3Title(BaseModel):\n",
    "    \"\"\"A component responsible for generating the title of an H3Title\"\"\"\n",
    "    \n",
    "    title:str = Field(description=\"The title of this H2Title\")\n",
    "    content:str = \"\""
   ]
  },
  {
   "cell_type": "code",
   "execution_count": 9,
   "metadata": {},
   "outputs": [],
   "source": [
    "class H2Title(BaseModel):\n",
    "    \"\"\"A component responsible for generating the title of an H2Title\"\"\"\n",
    "    \n",
    "    title:str = Field(description=\"The title of this H2Title\")\n",
    "    content:str = Field(description=\"Leave empty. Will be filled later.\")\n",
    "    h3_titles:Optional[List[H3Title]] = Field(description=\"The list of H3Titles that will be generated. They are related to the H2 title.\")"
   ]
  },
  {
   "cell_type": "code",
   "execution_count": 14,
   "metadata": {},
   "outputs": [
    {
     "data": {
      "text/plain": [
       "OutlineGenerator(h2_titles=[H2Title(title='Introduction', content='', h3_titles=None), H2Title(title='Importance of SEO in E-commerce', content='', h3_titles=[H3Title(title='Increased Visibility', content=''), H3Title(title='Higher Ranking on Search Engines', content=''), H3Title(title='Targeted Traffic', content='')]), H2Title(title='SEO Strategies for E-commerce', content='', h3_titles=[H3Title(title='Keyword Research', content=''), H3Title(title='On-Page Optimization', content=''), H3Title(title='Off-Page Optimization', content=''), H3Title(title='Technical SEO', content='')]), H2Title(title='Content Creation for E-commerce SEO', content='', h3_titles=[H3Title(title='Product Descriptions', content=''), H3Title(title='Category Pages', content=''), H3Title(title='Blogs and Articles', content='')]), H2Title(title='Mobile Optimization for E-commerce', content='', h3_titles=[H3Title(title='Responsive Design', content=''), H3Title(title='Mobile-Friendly Content', content='')]), H2Title(title='Measuring SEO Success in E-commerce', content='', h3_titles=[H3Title(title='Key Performance Indicators (KPIs)', content=''), H3Title(title='Google Analytics', content='')])])"
      ]
     },
     "execution_count": 14,
     "metadata": {},
     "output_type": "execute_result"
    }
   ],
   "source": [
    "class OutlineGenerator(BaseModel):\n",
    "    \"\"\"Generate an outline to write a SEO efficient article from a longtail keyword.\"\"\"\n",
    "\n",
    "    h2_titles:List[H2Title] = Field(description=\"The generated H2Titles\")\n",
    "\n",
    "    @classmethod\n",
    "    def get_system_prompt(cls) -> str:\n",
    "        return \"\"\"You are an outline generator. You will generate an outline to write a SEO efficient article from a longtail keyword. H1 is the title of the whole article, you will include both H2Titles and H3Titles. Always include a Conclusion section at the end.\"\"\"\n",
    "    \n",
    "    \n",
    "outline = class_tester(OutlineGenerator, \"Article title:\\n\\n {title}\", {\"title\": article_title})\n",
    "outline"
   ]
  },
  {
   "cell_type": "code",
   "execution_count": 47,
   "metadata": {},
   "outputs": [
    {
     "data": {
      "text/plain": [
       "ParagraphWriter(paragraph='Keyword research is a crucial aspect of e-commerce SEO. By identifying relevant keywords, online businesses can attract targeted traffic to their websites. Understanding the difference between long-tail and short-tail keywords is essential for optimizing content and improving search engine rankings. Effective keyword research lays the foundation for a successful SEO strategy in the competitive e-commerce landscape.')"
      ]
     },
     "execution_count": 47,
     "metadata": {},
     "output_type": "execute_result"
    }
   ],
   "source": [
    "class ParagraphWriter(BaseModel):\n",
    "    \"\"\"Component responsible for writing a paragraph based on provided information.\"\"\"\n",
    "\n",
    "    paragraph:str = Field(description=\"The written content of the H1 paragraph\")\n",
    "\n",
    "    @classmethod\n",
    "    def get_system_prompt(cls) -> str:\n",
    "        return \"\"\"You are an expert SEO article writer. You will write the content of a paragraph based on the provided overall outline and paragraph title\"\"\"\n",
    "    \n",
    "\n",
    "result = class_tester(ParagraphWriter, \"Article Title: {a_title}\\n\\nOverall article outline: {outline}\\n\\nParagraph title:\\n\\n {p_title}\", {\"a_title\": article_title, \"outline\": outline, \"p_title\": \"Keyword Research for E-commerce SEO\"})\n",
    "result"
   ]
  },
  {
   "cell_type": "code",
   "execution_count": 56,
   "metadata": {},
   "outputs": [],
   "source": [
    "for h2 in outline.h2_titles:\n",
    "    h2.content = class_tester(ParagraphWriter, \"Overall article outline: {outline}\\n\\nParagraph title:\\n\\n  {p_title}\", {\"outline\": outline, \"p_title\": h2.title})\n"
   ]
  },
  {
   "cell_type": "code",
   "execution_count": 58,
   "metadata": {},
   "outputs": [],
   "source": [
    "def stitch_h2_paragraphs(outline: OutlineGenerator) -> str:\n",
    "    article = \"\"\n",
    "\n",
    "    for h2 in outline.h2_titles:\n",
    "        # Add H2 title\n",
    "        article += f\"## {h2.title}\\n\\n\"\n",
    "        # Add H2 content\n",
    "        article += f\"{h2.content.paragraph}\\n\\n\"\n",
    "        # If there are H3 titles, add them\n",
    "        if h2.h3_titles:\n",
    "            for h3 in h2.h3_titles:\n",
    "                # Add H3 title\n",
    "                article += f\"### {h3.title}\\n\\n\"\n",
    "                # Add H3 content\n",
    "                article += f\"{h3.content}\\n\\n\"\n",
    "\n",
    "    return article.strip()"
   ]
  },
  {
   "cell_type": "code",
   "execution_count": 60,
   "metadata": {},
   "outputs": [
    {
     "data": {
      "text/plain": [
       "\"## Introduction\\n\\nWelcome to the world of E-commerce where the digital landscape is constantly evolving. In this fast-paced environment, the role of Search Engine Optimization (SEO) is more crucial than ever. SEO plays a vital role in ensuring that your online store is visible to potential customers and stands out amidst the competition. Let's delve into the significance of SEO in E-commerce and explore how it can drive success for your online business.\\n\\n## Importance of SEO in E-commerce\\n\\nSearch Engine Optimization (SEO) is a critical component in the realm of E-commerce, playing a pivotal role in enhancing the visibility of online stores, boosting conversion rates, and providing a competitive edge in the digital marketplace. In this section, we will explore the significance of SEO in E-commerce and how it contributes to the success of online businesses.\\n\\n### Increased Visibility\\n\\n\\n\\n### Higher Conversion Rates\\n\\n\\n\\n### Competitive Advantage\\n\\n\\n\\n## Key Elements of SEO for E-commerce\\n\\nWhen it comes to optimizing your E-commerce website for search engines, understanding the key elements of SEO is essential. These elements serve as the foundation for improving your online store's visibility, attracting more organic traffic, and ultimately driving conversions. In this section, we will delve into the crucial key elements of SEO for E-commerce that can significantly impact the success of your online business.\\n\\n### Keyword Research\\n\\n\\n\\n### On-Page Optimization\\n\\n\\n\\n### Link Building\\n\\n\\n\\n### Mobile Optimization\\n\\n\\n\\n## Best Practices for Writing SEO Articles in E-commerce\\n\\nWhen it comes to creating SEO articles for E-commerce, following best practices is essential to enhance visibility, attract organic traffic, and drive conversions. In this section, we will explore the key strategies for writing SEO articles that can help your online store stand out in the digital landscape.\\n\\n### Unique and High-Quality Content\\n\\n\\n\\n### Optimized Product Descriptions\\n\\n\\n\\n### Utilizing Long-Tail Keywords\\n\\n\\n\\n### Image Optimization\\n\\n\\n\\n## Conclusion\\n\\nIn conclusion, Search Engine Optimization (SEO) is a fundamental aspect of E-commerce success. By implementing effective SEO strategies, online businesses can enhance their visibility, attract more organic traffic, and ultimately drive conversions. As the digital landscape continues to evolve, staying ahead with SEO practices is essential for maintaining a competitive edge. Embracing SEO in E-commerce is not just a choice but a necessity for thriving in the online marketplace.\""
      ]
     },
     "execution_count": 60,
     "metadata": {},
     "output_type": "execute_result"
    }
   ],
   "source": [
    "article = stitch_h2_paragraphs(outline)\n",
    "article"
   ]
  },
  {
   "cell_type": "code",
   "execution_count": 15,
   "metadata": {},
   "outputs": [
    {
     "name": "stdout",
     "output_type": "stream",
     "text": [
      "{\"message\":\"You are not subscribed to this API.\"}\n"
     ]
    }
   ],
   "source": [
    "import requests\n",
    "\n",
    "url = \"https://free-news.p.rapidapi.com/v1/search\"\n",
    "\n",
    "querystring = {\"q\":\"bitcoin\",\"lang\":\"en\",\"page\":\"1\",\"page_size\":\"25\"}\n",
    "\n",
    "headers = {\n",
    "    'x-rapidapi-key': \"<YOUR API KEY>\",\n",
    "    'x-rapidapi-host': \"free-news.p.rapidapi.com\"\n",
    "    }\n",
    "\n",
    "response = requests.request(\"GET\", url, headers=headers, params=querystring)\n",
    "\n",
    "print(response.text)\n"
   ]
  }
 ],
 "metadata": {
  "kernelspec": {
   "display_name": ".venv",
   "language": "python",
   "name": "python3"
  },
  "language_info": {
   "codemirror_mode": {
    "name": "ipython",
    "version": 3
   },
   "file_extension": ".py",
   "mimetype": "text/x-python",
   "name": "python",
   "nbconvert_exporter": "python",
   "pygments_lexer": "ipython3",
   "version": "3.10.12"
  }
 },
 "nbformat": 4,
 "nbformat_minor": 2
}
