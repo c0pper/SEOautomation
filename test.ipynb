{
 "cells": [
  {
   "cell_type": "code",
   "execution_count": 7,
   "metadata": {},
   "outputs": [],
   "source": [
    "from langchain_core.pydantic_v1 import BaseModel, Field\n",
    "\n",
    "\n",
    "class Joke(BaseModel):\n",
    "    setup: str = Field(description=\"The setup of the joke\")\n",
    "    punchline: str = Field(description=\"The punchline to the joke\")"
   ]
  },
  {
   "cell_type": "code",
   "execution_count": 8,
   "metadata": {},
   "outputs": [],
   "source": [
    "from langchain_openai import ChatOpenAI\n",
    "\n",
    "model = ChatOpenAI(model=\"gpt-3.5-turbo-0125\", temperature=0)\n",
    "structured_llm = model.with_structured_output(Joke)"
   ]
  },
  {
   "cell_type": "code",
   "execution_count": 9,
   "metadata": {},
   "outputs": [
    {
     "data": {
      "text/plain": [
       "Joke(setup='Why was the cat sitting on the computer?', punchline='To keep an eye on the mouse!')"
      ]
     },
     "execution_count": 9,
     "metadata": {},
     "output_type": "execute_result"
    }
   ],
   "source": [
    "structured_llm.invoke(\"Tell me a joke about cats\")"
   ]
  },
  {
   "cell_type": "code",
   "execution_count": 11,
   "metadata": {},
   "outputs": [],
   "source": [
    "from typing import List\n",
    "from typing import Union\n",
    "\n",
    "    \n",
    "class Article(BaseModel):\n",
    "    link: Union[str|None]\n",
    "    title: Union[str|None]\n",
    "    source: Union[str|None]\n",
    "    date: Union[str|None]\n",
    "    snippet: Union[str|None]\n",
    "    summary: Union[str|None]\n",
    "    \n",
    "class Topic(BaseModel):\n",
    "    topic: str = Field(description=\"The topic name\")\n",
    "    articles: List[Article] = Field(description=\"The list of related news articles\")\n",
    "    \n",
    "    \n",
    "class NewsClusterer(BaseModel):\n",
    "    topics: List[Topic] = Field(description=\"The list of generated topics\")"
   ]
  },
  {
   "cell_type": "code",
   "execution_count": 12,
   "metadata": {},
   "outputs": [],
   "source": [
    "structured_llm = model.with_structured_output(NewsClusterer)"
   ]
  },
  {
   "cell_type": "code",
   "execution_count": 14,
   "metadata": {},
   "outputs": [
    {
     "data": {
      "text/plain": [
       "NewsClusterer(topics=[Topic(topic='Flood Warnings by National Weather Service', articles=[Article(link=None, title='Two inches of rain per hour possible: Flood watch issued by National Weather Service', source='Unknown', date='Unknown', snippet='Two inches of rain per hour possible: Flood watch issued by National Weather ServiceNational Weather Service has issued a time sensitive severe alert. A flood watch is in effect Tuesday from 5 p.m. to 11 p.m. this evening. WHERE: Portions of central, northern, northwest, and western Virginia, including the following...', summary='National Weather Service has issued a flood watch for central, northern, northwest, and western Virginia with the possibility of two inches of rain per hour.'), Article(link=None, title='National Weather Service issues flood watch for Tri-Cities until 10 p.m. Saturday', source='Unknown', date='Unknown', snippet=\"National Weather Service issues flood watch for Tri-Cities until 10 p.m. SaturdaySaturday's hard rain pummeling the Tri-City area has led to a flash-flood watch from the National Weather Service until 10 p.m., with warnings issues for points north and east of here. NWS' Wakefield office issued the advisory around 3:40...\", summary='The National Weather Service has issued a flood watch for Tri-Cities until 10 p.m. Saturday due to heavy rain and flash-flood warnings in the area.'), Article(link=None, title=\"'Life-Threatening Flash Flooding' Possible In GA; Warnings Issued\", source='Unknown', date='Unknown', snippet='Weather \\'Life-Threatening Flash Flooding\\' Possible In GA; Warnings Issued \"Life-threatening flash flooding\" may occur in some parts of Georgia on Tuesday, according to two warnings. A flash flood warning has been issued for some Georgia cities until 10 p.m. Tuesday. (Shutterstock)GEORGIA — A flash flood warning has been issued for...', summary=\"Georgia is under the threat of 'Life-Threatening Flash Flooding' with warnings issued for some cities until 10 p.m. Tuesday.\"), Article(link=None, title='Flash flood warning issued for Harrisonburg and Rockingham County', source='Unknown', date='Unknown', snippet='HARRISONBURG, Va. ( ROCKTOWN NOW ) – The National Weather Service has issued a flash flood warning for central Rockingham County and Harrisonburg, Virginia until 7:45 p.m. According to an alert from NWS in Sterling, Va., thunderstorms are producing heavy rainfall of 1-2 inches per hour, with 1-1.5 inches already...', summary='A flash flood warning has been issued for Harrisonburg and Rockingham County by the National Weather Service due to heavy rainfall and thunderstorms producing 1-2 inches per hour.')])])"
      ]
     },
     "execution_count": 14,
     "metadata": {},
     "output_type": "execute_result"
    }
   ],
   "source": [
    "structured_llm.invoke([\n",
    "    (\n",
    "        \"system\",\n",
    "        \"'You are a news clustering generator. You will cluster news articles into related topics based on their title and summary.'\",\n",
    "    ),\n",
    "    (\"human\", \"Articles:\\n\\n Article Title: Two inches of rain per hour possible: Flood watch issued by National Weather Service\\nArticle Snippet: Two inches of rain per hour possible: Flood watch issued by National Weather ServiceNational Weather Service has issued a time sensitive severe alert. A flood watch is in effect Tuesday from 5 p.m. to 11 p.m. this evening. WHERE: Portions of central, northern, northwest, and western Virginia, including the following...\\n-----\\nArticle Title: National Weather Service issues flood watch for Tri-Cities until 10 p.m. Saturday\\nArticle Snippet: National Weather Service issues flood watch for Tri-Cities until 10 p.m. SaturdaySaturday's hard rain pummeling the Tri-City area has led to a flash-flood watch from the National Weather Service until 10 p.m., with warnings issues for points north and east of here. NWS' Wakefield office issued the advisory around 3:40...\\n-----\\nArticle Title: 'Life-Threatening Flash Flooding' Possible In GA; Warnings Issued\\nArticle Snippet: Weather 'Life-Threatening Flash Flooding' Possible In GA; Warnings Issued \\\"Life-threatening flash flooding\\\" may occur in some parts of Georgia on Tuesday, according to two warnings. A flash flood warning has been issued for some Georgia cities until 10 p.m. Tuesday. (Shutterstock)GEORGIA — A flash flood warning has been issued for...\\n-----\\nArticle Title: Flash flood warning issued for Harrisonburg and Rockingham County\\nArticle Snippet: HARRISONBURG, Va. ( ROCKTOWN NOW ) – The National Weather Service has issued a flash flood warning for central Rockingham County and Harrisonburg, Virginia until 7:45 p.m. According to an alert from NWS in Sterling, Va., thunderstorms are producing heavy rainfall of 1-2 inches per hour, with 1-1.5 inches already...\"),\n",
    "])"
   ]
  },
  {
   "cell_type": "code",
   "execution_count": 8,
   "metadata": {},
   "outputs": [
    {
     "ename": "TypeError",
     "evalue": "Expected a Runnable, callable or dict.Instead got an unsupported type: <class 'list'>",
     "output_type": "error",
     "traceback": [
      "\u001b[1;31m---------------------------------------------------------------------------\u001b[0m",
      "\u001b[1;31mTypeError\u001b[0m                                 Traceback (most recent call last)",
      "Cell \u001b[1;32mIn[8], line 31\u001b[0m\n\u001b[0;32m     25\u001b[0m primary_keyword_gen_template \u001b[38;5;241m=\u001b[39m[\n\u001b[0;32m     26\u001b[0m         (\u001b[38;5;124m\"\u001b[39m\u001b[38;5;124msystem\u001b[39m\u001b[38;5;124m\"\u001b[39m, primary_keyword_gen_system),\n\u001b[0;32m     27\u001b[0m         (\u001b[38;5;124m\"\u001b[39m\u001b[38;5;124mhuman\u001b[39m\u001b[38;5;124m\"\u001b[39m, primary_keyword_gen_human)\n\u001b[0;32m     28\u001b[0m     ]\n\u001b[0;32m     30\u001b[0m structured_llm \u001b[38;5;241m=\u001b[39m ChatOpenAI(model\u001b[38;5;241m=\u001b[39m\u001b[38;5;124m\"\u001b[39m\u001b[38;5;124mgpt-3.5-turbo-0125\u001b[39m\u001b[38;5;124m\"\u001b[39m, temperature\u001b[38;5;241m=\u001b[39m\u001b[38;5;241m0\u001b[39m)\u001b[38;5;241m.\u001b[39mwith_structured_output(PrimaryKeywordGenerator)\n\u001b[1;32m---> 31\u001b[0m generator \u001b[38;5;241m=\u001b[39m \u001b[43mprimary_keyword_gen_template\u001b[49m\u001b[43m \u001b[49m\u001b[38;5;241;43m|\u001b[39;49m\u001b[43m \u001b[49m\u001b[43mstructured_llm\u001b[49m\n\u001b[0;32m     32\u001b[0m \u001b[38;5;66;03m# pk = generator.invoke({\"articles\": articles})\u001b[39;00m\n\u001b[0;32m     33\u001b[0m pk \u001b[38;5;241m=\u001b[39m structured_llm\u001b[38;5;241m.\u001b[39minvoke(primary_keyword_gen_template)\n",
      "File \u001b[1;32mc:\\workspace\\python\\SEOautomation\\.venv\\lib\\site-packages\\langchain_core\\runnables\\base.py:2471\u001b[0m, in \u001b[0;36mRunnableSequence.__ror__\u001b[1;34m(self, other)\u001b[0m\n\u001b[0;32m   2460\u001b[0m     \u001b[38;5;28;01mreturn\u001b[39;00m RunnableSequence(\n\u001b[0;32m   2461\u001b[0m         other\u001b[38;5;241m.\u001b[39mfirst,\n\u001b[0;32m   2462\u001b[0m         \u001b[38;5;241m*\u001b[39mother\u001b[38;5;241m.\u001b[39mmiddle,\n\u001b[1;32m   (...)\u001b[0m\n\u001b[0;32m   2467\u001b[0m         name\u001b[38;5;241m=\u001b[39mother\u001b[38;5;241m.\u001b[39mname \u001b[38;5;129;01mor\u001b[39;00m \u001b[38;5;28mself\u001b[39m\u001b[38;5;241m.\u001b[39mname,\n\u001b[0;32m   2468\u001b[0m     )\n\u001b[0;32m   2469\u001b[0m \u001b[38;5;28;01melse\u001b[39;00m:\n\u001b[0;32m   2470\u001b[0m     \u001b[38;5;28;01mreturn\u001b[39;00m RunnableSequence(\n\u001b[1;32m-> 2471\u001b[0m         \u001b[43mcoerce_to_runnable\u001b[49m\u001b[43m(\u001b[49m\u001b[43mother\u001b[49m\u001b[43m)\u001b[49m,\n\u001b[0;32m   2472\u001b[0m         \u001b[38;5;28mself\u001b[39m\u001b[38;5;241m.\u001b[39mfirst,\n\u001b[0;32m   2473\u001b[0m         \u001b[38;5;241m*\u001b[39m\u001b[38;5;28mself\u001b[39m\u001b[38;5;241m.\u001b[39mmiddle,\n\u001b[0;32m   2474\u001b[0m         \u001b[38;5;28mself\u001b[39m\u001b[38;5;241m.\u001b[39mlast,\n\u001b[0;32m   2475\u001b[0m         name\u001b[38;5;241m=\u001b[39m\u001b[38;5;28mself\u001b[39m\u001b[38;5;241m.\u001b[39mname,\n\u001b[0;32m   2476\u001b[0m     )\n",
      "File \u001b[1;32mc:\\workspace\\python\\SEOautomation\\.venv\\lib\\site-packages\\langchain_core\\runnables\\base.py:5031\u001b[0m, in \u001b[0;36mcoerce_to_runnable\u001b[1;34m(thing)\u001b[0m\n\u001b[0;32m   5029\u001b[0m     \u001b[38;5;28;01mreturn\u001b[39;00m cast(Runnable[Input, Output], RunnableParallel(thing))\n\u001b[0;32m   5030\u001b[0m \u001b[38;5;28;01melse\u001b[39;00m:\n\u001b[1;32m-> 5031\u001b[0m     \u001b[38;5;28;01mraise\u001b[39;00m \u001b[38;5;167;01mTypeError\u001b[39;00m(\n\u001b[0;32m   5032\u001b[0m         \u001b[38;5;124mf\u001b[39m\u001b[38;5;124m\"\u001b[39m\u001b[38;5;124mExpected a Runnable, callable or dict.\u001b[39m\u001b[38;5;124m\"\u001b[39m\n\u001b[0;32m   5033\u001b[0m         \u001b[38;5;124mf\u001b[39m\u001b[38;5;124m\"\u001b[39m\u001b[38;5;124mInstead got an unsupported type: \u001b[39m\u001b[38;5;132;01m{\u001b[39;00m\u001b[38;5;28mtype\u001b[39m(thing)\u001b[38;5;132;01m}\u001b[39;00m\u001b[38;5;124m\"\u001b[39m\n\u001b[0;32m   5034\u001b[0m     )\n",
      "\u001b[1;31mTypeError\u001b[0m: Expected a Runnable, callable or dict.Instead got an unsupported type: <class 'list'>"
     ]
    }
   ],
   "source": [
    "from langchain_core.prompts import ChatPromptTemplate\n",
    "from pydantic import BaseModel, Field\n",
    "from langchain_openai import ChatOpenAI\n",
    "\n",
    "\n",
    "class PrimaryKeywordGenerator(BaseModel):\n",
    "    # \"\"\"A component responsible for generating a primary keyword for an article starting from a list of related articles.\"\"\"\n",
    "    # primary_keyword: PrimaryKeyword = Field(\n",
    "    #     description=\"The generated primary keyword\"\n",
    "    # )\n",
    "    primary_keyword: str = Field(\n",
    "        description=\"The generated primary keyword\"\n",
    "    )\n",
    "\n",
    "primary_keyword_gen_system = \"\"\"You are a primary keyword generator. You will generate a primary keyword to guide the writing of an SEO-efficient article starting from a list of articles.\"\"\"\n",
    "primary_keyword_gen_human = \"\"\"Articles:\\n\\n {articles}\"\"\"\n",
    "articles = 'Title: Two inches of rain per hour possible: Flood watch issued by National Weather Service\\nSnippet: Two inches of rain per hour possible: Flood watch issued by National Weather ServiceNational Weather Service has issued a time sensitive severe alert. A flood watch is in effect Tuesday from 5 p.m. to 11 p.m. this evening. WHERE: Portions of central, northern, northwest, and western Virginia, including the following...\\n----\\nTitle: National Weather Service issues flood watch for Tri-Cities until 10 p.m. Saturday\\nSnippet: National Weather Service issues flood watch for Tri-Cities until 10 p.m. SaturdaySaturday\\'s hard rain pummeling the Tri-City area has led to a flash-flood watch from the National Weather Service until 10 p.m., with warnings issues for points north and east of here. NWS\\' Wakefield office issued the advisory around 3:40...\\n----\\nTitle: \\'Life-Threatening Flash Flooding\\' Possible In GA; Warnings Issued\\nSnippet: Weather \\'Life-Threatening Flash Flooding\\' Possible In GA; Warnings Issued \"Life-threatening flash flooding\" may occur in some parts of Georgia on Tuesday, according to two warnings. A flash flood warning has been issued for some Georgia cities until 10 p.m. Tuesday. (Shutterstock)GEORGIA — A flash flood warning has been issued for...\\n----\\nTitle: Flash flood warning issued for Harrisonburg and Rockingham County\\nSnippet: HARRISONBURG, Va. ( ROCKTOWN NOW ) – The National Weather Service has issued a flash flood warning for central Rockingham County and Harrisonburg, Virginia until 7:45 p.m. According to an alert from NWS in Sterling, Va., thunderstorms are producing heavy rainfall of 1-2 inches per hour, with 1-1.5 inches already...'\n",
    "primary_keyword_gen_human = primary_keyword_gen_human.format(articles=articles)\n",
    "# primary_keyword_gen_template = ChatPromptTemplate.from_messages(\n",
    "#     [\n",
    "#         (\"system\", primary_keyword_gen_system),\n",
    "#         (\"human\", primary_keyword_gen_human)\n",
    "#     ]\n",
    "# )\n",
    "primary_keyword_gen_template =[\n",
    "        (\"system\", primary_keyword_gen_system),\n",
    "        (\"human\", primary_keyword_gen_human)\n",
    "    ]\n",
    "\n",
    "structured_llm = ChatOpenAI(model=\"gpt-3.5-turbo-0125\", temperature=0).with_structured_output(PrimaryKeywordGenerator)\n",
    "generator = primary_keyword_gen_template | structured_llm\n",
    "# pk = generator.invoke({\"articles\": articles})\n",
    "pk = structured_llm.invoke(primary_keyword_gen_template)\n",
    "pk"
   ]
  }
 ],
 "metadata": {
  "kernelspec": {
   "display_name": ".venv",
   "language": "python",
   "name": "python3"
  },
  "language_info": {
   "codemirror_mode": {
    "name": "ipython",
    "version": 3
   },
   "file_extension": ".py",
   "mimetype": "text/x-python",
   "name": "python",
   "nbconvert_exporter": "python",
   "pygments_lexer": "ipython3",
   "version": "3.10.0"
  }
 },
 "nbformat": 4,
 "nbformat_minor": 2
}
